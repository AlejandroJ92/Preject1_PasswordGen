{
 "cells": [
  {
   "cell_type": "code",
   "execution_count": 14,
   "id": "47eb4834",
   "metadata": {},
   "outputs": [
    {
     "name": "stdout",
     "output_type": "stream",
     "text": [
      "¿Cuántos caracteres desea que tenga su contraseña? Favor de introducir un valor entre 8 y 14.10\n",
      "¿Que nivel de seguridad desea que tenga su contraseña? Por favor elija entre \"Bajo\", \"Medio\" y \"Alto\".Bajo\n"
     ]
    },
    {
     "ename": "UnboundLocalError",
     "evalue": "local variable 'passw_word' referenced before assignment",
     "output_type": "error",
     "traceback": [
      "\u001b[1;31m---------------------------------------------------------------------------\u001b[0m",
      "\u001b[1;31mUnboundLocalError\u001b[0m                         Traceback (most recent call last)",
      "Input \u001b[1;32mIn [14]\u001b[0m, in \u001b[0;36m<cell line: 68>\u001b[1;34m()\u001b[0m\n\u001b[0;32m     68\u001b[0m \u001b[38;5;28;01mwhile\u001b[39;00m fin \u001b[38;5;241m==\u001b[39m \u001b[38;5;28;01mFalse\u001b[39;00m:\n\u001b[0;32m     69\u001b[0m     \u001b[38;5;28;01mif\u001b[39;00m level_pass \u001b[38;5;241m==\u001b[39m \u001b[38;5;124m'\u001b[39m\u001b[38;5;124mbajo\u001b[39m\u001b[38;5;124m'\u001b[39m:\n\u001b[1;32m---> 70\u001b[0m         passw \u001b[38;5;241m=\u001b[39m \u001b[43mlow_level\u001b[49m\u001b[43m(\u001b[49m\u001b[43mlen_pass\u001b[49m\u001b[43m)\u001b[49m\n\u001b[0;32m     72\u001b[0m     \u001b[38;5;28mprint\u001b[39m(\u001b[38;5;124m\"\u001b[39m\u001b[38;5;124mLa password propuesta es: \u001b[39m\u001b[38;5;124m\"\u001b[39m\u001b[38;5;241m+\u001b[39mpassw)\n\u001b[0;32m     73\u001b[0m     fin \u001b[38;5;241m=\u001b[39m end()\n",
      "Input \u001b[1;32mIn [14]\u001b[0m, in \u001b[0;36mlow_level\u001b[1;34m(length)\u001b[0m\n\u001b[0;32m     52\u001b[0m     \u001b[38;5;28;01melse\u001b[39;00m:\n\u001b[0;32m     53\u001b[0m         passsw_word \u001b[38;5;241m=\u001b[39m word\n\u001b[1;32m---> 55\u001b[0m     numb_len \u001b[38;5;241m=\u001b[39m length \u001b[38;5;241m-\u001b[39m \u001b[38;5;28mlen\u001b[39m(\u001b[43mpassw_word\u001b[49m)\n\u001b[0;32m     56\u001b[0m     numb \u001b[38;5;241m=\u001b[39m \u001b[38;5;124m'\u001b[39m\u001b[38;5;124m'\u001b[39m\n\u001b[0;32m     58\u001b[0m \u001b[38;5;28;01mfor\u001b[39;00m i \u001b[38;5;129;01min\u001b[39;00m \u001b[38;5;28mrange\u001b[39m(numb_len):\n",
      "\u001b[1;31mUnboundLocalError\u001b[0m: local variable 'passw_word' referenced before assignment"
     ]
    }
   ],
   "source": [
    "def length_pass():\n",
    "    length = input('¿Cuántos caracteres desea que tenga su contraseña? Favor de introducir un valor entre 8 y 14.')\n",
    "    try:\n",
    "        int(length)\n",
    "    except ValueError:\n",
    "        print('No es un valor valido.')\n",
    "        length_pass()\n",
    "    new_length = int(length)\n",
    "    if int(new_length) < 8:\n",
    "        print('La longitud dada es menor a la solicitada.')\n",
    "        length_pass()\n",
    "    elif int(new_length) > 14:\n",
    "        print('La longitud dada es mayor a la solicitada.')\n",
    "        length_pass()\n",
    "    else:\n",
    "        return new_length\n",
    "\n",
    "def level_security():\n",
    "    level = input('¿Que nivel de seguridad desea que tenga su contraseña? Por favor elija entre \"Bajo\", \"Medio\" y \"Alto\".')\n",
    "    level = level.lower()\n",
    "    new_level = ''.join(char for char in level if char.isalnum())\n",
    "    levels = ['alto', 'medio', 'bajo']\n",
    "    if new_level in levels:\n",
    "        return new_level\n",
    "    else:\n",
    "        print('Favor de introducir un valor válido.')\n",
    "        level_security()    \n",
    "\n",
    "#Si el usuario desea una contraseña de bajo nivel de seguridad:\n",
    "#Importar librería de palabras de Python.\n",
    "#Seleccionar una palabra aleatoriamente.\n",
    "#Si la longitud de la palabra es menor a la mitad de la longitud solicitada por el usuario,\n",
    "#duplicar la palabra y agregar un número.\n",
    "#Si la longitud de la palabra es mayor a la mitad de la longitud solicitada por el usuario, \n",
    "#agregar un número aleatorio para cumplir con la longitud solicitada por el usuario.\n",
    "\n",
    "def low_level(length):\n",
    "    import random as rd\n",
    "    from random_words import RandomWords\n",
    "    rw = RandomWords()\n",
    "    i = 0\n",
    "    while i == 0:\n",
    "        word = rw.random_word().lower()\n",
    "    \n",
    "        i == 1\n",
    "        if len(word) > length:\n",
    "            word = str(rw.random_word()).lower()\n",
    "    \n",
    "        elif length / 2 >= len(word):\n",
    "            passw_word = word * 2\n",
    "        \n",
    "        else:\n",
    "            passsw_word = word\n",
    "        \n",
    "        numb_len = length - len(passw_word)\n",
    "        numb = ''\n",
    "    \n",
    "    for i in range(numb_len):\n",
    "        numb_temp = str(rd.randint(0,9))\n",
    "        numb = numb + numb_temp\n",
    "    passw = passw_word + numb\n",
    "    \n",
    "    return passw\n",
    "\n",
    "len_pass = length_pass()\n",
    "level_pass = level_security()\n",
    "fin = False\n",
    "while fin == False:\n",
    "    if level_pass == 'bajo':\n",
    "        passw = low_level(len_pass)\n",
    "        \n",
    "    print(\"La password propuesta es: \"+passw)\n",
    "    fin = end()\n",
    "print(passw)"
   ]
  },
  {
   "cell_type": "code",
   "execution_count": 13,
   "id": "810bba05",
   "metadata": {},
   "outputs": [
    {
     "name": "stdout",
     "output_type": "stream",
     "text": [
      "¿Cuántos caracteres desea que tenga su contraseña? Favor de introducir un valor entre 8 y 14.10\n",
      "¿Que nivel de seguridad desea que tenga su contraseña? Por favor elija entre \"Bajo\", \"Medio\" y \"Alto\".Medio\n",
      "St@cks1977\n"
     ]
    }
   ],
   "source": [
    "def mediun_level(length):\n",
    "    import random as rd\n",
    "    from random_words import RandomWords\n",
    "    rw = RandomWords()\n",
    "    word = rw.random_word().capitalize()\n",
    "    \n",
    "    i = 0\n",
    "    while i == 0:\n",
    "        word = rw.random_word().capitalize()\n",
    "\n",
    "        if len(word) == length:\n",
    "            pass_word = word.replace('a', '@')\n",
    "            pass_word = word.replace('i', '!')\n",
    "            pass_word = word.replace('e', '3')\n",
    "            pass_word = word.replace('o', '0')\n",
    "            \n",
    "            i = 1\n",
    "            \n",
    "        elif len(word) == length - 4:\n",
    "            birth_year = str(rd.randint(1922,2012))\n",
    "            pass_word = word + birth_year\n",
    "            pass_word = pass_word.replace('a', '@')\n",
    "            pass_word = pass_word.replace('i', '!')\n",
    "            pass_word = pass_word.replace('e', '3')\n",
    "            pass_word = pass_word.replace('o', '0')\n",
    "        \n",
    "            i = 1\n",
    "    return pass_word\n",
    "\n",
    "len_pass = length_pass()\n",
    "level_pass = level_security()\n",
    "\n",
    "if level_pass == 'medio':\n",
    "    pass_word = mediun_level(len_pass)\n",
    "print(pass_word)"
   ]
  },
  {
   "cell_type": "code",
   "execution_count": 10,
   "id": "c0b8a84b",
   "metadata": {},
   "outputs": [],
   "source": [
    "\n",
    "import random as rd\n",
    "n = str(rd.randint(1922,2012))"
   ]
  },
  {
   "cell_type": "code",
   "execution_count": 11,
   "id": "541b4c36",
   "metadata": {},
   "outputs": [
    {
     "name": "stdout",
     "output_type": "stream",
     "text": [
      "1928\n"
     ]
    }
   ],
   "source": [
    "print(n)"
   ]
  },
  {
   "cell_type": "code",
   "execution_count": null,
   "id": "12824696",
   "metadata": {},
   "outputs": [],
   "source": []
  }
 ],
 "metadata": {
  "kernelspec": {
   "display_name": "Python 3 (ipykernel)",
   "language": "python",
   "name": "python3"
  },
  "language_info": {
   "codemirror_mode": {
    "name": "ipython",
    "version": 3
   },
   "file_extension": ".py",
   "mimetype": "text/x-python",
   "name": "python",
   "nbconvert_exporter": "python",
   "pygments_lexer": "ipython3",
   "version": "3.10.3"
  }
 },
 "nbformat": 4,
 "nbformat_minor": 5
}
