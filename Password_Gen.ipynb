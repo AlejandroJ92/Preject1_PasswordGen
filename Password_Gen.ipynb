{
 "cells": [
  {
   "cell_type": "code",
   "execution_count": 8,
   "id": "47eb4834",
   "metadata": {},
   "outputs": [
    {
     "name": "stdout",
     "output_type": "stream",
     "text": [
      "¿Cuántos caracteres desea que tenga su contraseña? Favor de introducir un valor entre 8 y 14.6\n",
      "La longitud dada es menor a la solicitada.\n",
      "¿Cuántos caracteres desea que tenga su contraseña? Favor de introducir un valor entre 8 y 14.12\n",
      "¿Que nivel de seguridad desea que tenga su contraseña? Por favor elija entre \"Bajo\", \"Medio\" y \"Alto\".\"Bajo\"\n",
      "bajo\n"
     ]
    }
   ],
   "source": [
    "def length_pass():\n",
    "    length = input('¿Cuántos caracteres desea que tenga su contraseña? Favor de introducir un valor entre 8 y 14.')\n",
    "    try:\n",
    "        int(length)\n",
    "    except ValueError:\n",
    "        print('No es un valor valido.')\n",
    "        length_pass()\n",
    "    new_length = int(length)\n",
    "    if int(new_length) < 8:\n",
    "        print('La longitud dada es menor a la solicitada.')\n",
    "        length_pass()\n",
    "    elif int(new_length) > 14:\n",
    "        print('La longitud dada es mayor a la solicitada.')\n",
    "        length_pass()\n",
    "    else:\n",
    "        return new_length\n",
    "\n",
    "def level_security():\n",
    "    level = input('¿Que nivel de seguridad desea que tenga su contraseña? Por favor elija entre \"Bajo\", \"Medio\" y \"Alto\".')\n",
    "    level = level.lower()\n",
    "    new_level = ''.join(char for char in level if char.isalnum())\n",
    "    levels = ['alto', 'medio', 'bajo']\n",
    "    if new_level in levels:\n",
    "        return new_level\n",
    "    else:\n",
    "        print('Favor de introducir un valor válido.')\n",
    "        level_security()    \n",
    "\n",
    "len_pass = length_pass()\n",
    "level_pass = level_security()\n"
   ]
  },
  {
   "cell_type": "code",
   "execution_count": null,
   "id": "85cee110",
   "metadata": {},
   "outputs": [],
   "source": []
  }
 ],
 "metadata": {
  "kernelspec": {
   "display_name": "Python 3 (ipykernel)",
   "language": "python",
   "name": "python3"
  },
  "language_info": {
   "codemirror_mode": {
    "name": "ipython",
    "version": 3
   },
   "file_extension": ".py",
   "mimetype": "text/x-python",
   "name": "python",
   "nbconvert_exporter": "python",
   "pygments_lexer": "ipython3",
   "version": "3.10.3"
  }
 },
 "nbformat": 4,
 "nbformat_minor": 5
}
